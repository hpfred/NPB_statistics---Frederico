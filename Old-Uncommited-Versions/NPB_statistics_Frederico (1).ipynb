{
  "nbformat": 4,
  "nbformat_minor": 0,
  "metadata": {
    "colab": {
      "provenance": [],
      "collapsed_sections": [
        "JOWCUbVJ7DQi",
        "YGUJYxe57J7F",
        "UIZaVHOkAWAh"
      ]
    },
    "kernelspec": {
      "name": "python3",
      "display_name": "Python 3"
    },
    "language_info": {
      "name": "python"
    },
    "gpuClass": "standard"
  },
  "cells": [
    {
      "cell_type": "markdown",
      "metadata": {
        "id": "tGF4nphf66kz"
      },
      "source": [
        "#NPB Statistics"
      ]
    },
    {
      "cell_type": "markdown",
      "metadata": {
        "id": "qzje6rtQfQYK"
      },
      "source": [
        "## Utils"
      ]
    },
    {
      "cell_type": "markdown",
      "metadata": {
        "id": "JOWCUbVJ7DQi"
      },
      "source": [
        "### Imports"
      ]
    },
    {
      "cell_type": "code",
      "metadata": {
        "id": "cXTaG1Pk6vYN"
      },
      "source": [
        "import sys\n",
        "import argparse\n",
        "import math\n",
        "import numpy as np\n",
        "from scipy.stats import t\n",
        "import scipy.stats as stats\n",
        "import csv\n",
        "import matplotlib.pyplot as plt\n",
        "import matplotlib.ticker as ticker"
      ],
      "execution_count": 1,
      "outputs": []
    },
    {
      "cell_type": "code",
      "source": [
        "from google.colab import drive\n",
        "drive.mount('/content/drive')"
      ],
      "metadata": {
        "colab": {
          "base_uri": "https://localhost:8080/"
        },
        "id": "E-MgtE0xdCO2",
        "outputId": "5d1ba37d-e038-4d29-b1c0-a2748aaccfbe"
      },
      "execution_count": 2,
      "outputs": [
        {
          "output_type": "stream",
          "name": "stdout",
          "text": [
            "Drive already mounted at /content/drive; to attempt to forcibly remount, call drive.mount(\"/content/drive\", force_remount=True).\n"
          ]
        }
      ]
    },
    {
      "cell_type": "markdown",
      "metadata": {
        "id": "EyExpSxQ8LW2"
      },
      "source": [
        "### Global variables"
      ]
    },
    {
      "cell_type": "code",
      "metadata": {
        "id": "DTaW6sIj8G11"
      },
      "source": [
        "##Global variables\n",
        "#VER_PYTHON_SERIAL=\"PYTHON-SERIAL\"\n",
        "#VER_CPP_SERIAL=\"CPP-SERIAL\"\n",
        "#VER_PYTHON_CUDA=\"PYTHON-CUDA\"\n",
        "#VER_CUDA=\"CPP-CUDA\"\n",
        "#VER_OPENACC=\"CPP-OPENACC\"\n",
        "#VER_RTM_INTEL=\"RTM-INTEL\"\n",
        "VER_RTM_INTEL_R1=\"RTM-INTEL-r1\"\n",
        "VER_RTM_INTEL_R50=\"RTM-INTEL-r50\"\n",
        "VER_RTM_INTEL_R500=\"RTM-INTEL-r500\"\n",
        "VER_STM_TINY=\"STM-TINY\"\n",
        "VER_STM_SWISS=\"STM-SWISS\"\n",
        "VER_SEQ=\"SEQ\"\n",
        "\n",
        "#VERSIONS_SERIAL = [VER_PYTHON_SERIAL, VER_CPP_SERIAL]\n",
        "#VERSIONS_GPU = [VER_PYTHON_CUDA, VER_CUDA, VER_OPENACC]\n",
        "#VERSIONS = [VER_HTM_INTEL, VER_STM_TINY]\n",
        "#VERSIONS = [VER_RTM_INTEL, VER_SEQ]\n",
        "VERSIONS = []\n",
        "#fullVerList = [VER_RTM_INTEL, VER_STM_TINY, VER_STM_SWISS, VER_SEQ]\n",
        "fullVerList = [VER_RTM_INTEL_R1, VER_RTM_INTEL_R50, VER_RTM_INTEL_R500, VER_STM_TINY, VER_STM_SWISS, VER_SEQ]\n",
        "\n",
        "#----Talvez trocar os nomes pra só \"Lo\" e \"Hi\" pra parar de ficar torto as tabelas----\n",
        "##CLASSES = [\"B\", \"C\"]\n",
        "#CLASSES = [\"LoContention\", \"HiContention\"]\n",
        "CLASSES = []\n",
        "#fullClssList = [\"LoContention\", \"HiContention\"]\n",
        "fullClssList = [\"Low\", \"High\"]\n",
        "\n",
        "##BENCHS = [\"BT\", \"CG\", \"EP\", \"FT\", \"IS\", \"LU\", \"MG\", \"SP\"]\n",
        "#BENCHS = [\"bayes\", \"genome\", \"intruder\", \"kmeans\", \"labyrinth\", \"ssca2\", \"vacation\", \"yada\"]\n",
        "#BENCHS = [\"bayes\", \"genome\", \"kmeans\", \"labyrinth\", \"intruder\", \"yada\"]\n",
        "BENCHS = []\n",
        "fullBnchList = [\"bayes\", \"genome\", \"intruder\", \"kmeans\", \"labyrinth\", \"ssca2\", \"vacation\", \"yada\"]\n",
        "\n",
        "#Para facilmente poder remover algum, listar os que devem ser ignorados da lista criada com base no arquivo\n",
        "#ignoreVer = [VER_RTM_INTEL, VER_STM_TINY]\n",
        "#ignoreClss = [\"LoContention\"]\n",
        "#ignoreBnch = [\"bayes\", \"genome\", \"kmeans\", \"labyrinth\", \"ssca2\", \"vacation\"]\n",
        "\n",
        "ignoreVer = [\"SEQ\"]\n",
        "ignoreClss = []\n",
        "ignoreBnch = []\n",
        "\n",
        "fileName = \"/content/drive/MyDrive/Colab Notebooks/Arquivos/tratado\"\n",
        "with open(fileName) as f:\n",
        "  file = f.read()\n",
        "  if((\"RTM-INTEL-r1\" in file) and not(\"RTM-INTEL-r1\" in ignoreVer)):\n",
        "    VERSIONS.append(VER_RTM_INTEL_R1)\n",
        "  if((\"RTM-INTEL-r50\" in file) and not(\"RTM-INTEL-r50\" in ignoreVer)):\n",
        "    VERSIONS.append(VER_RTM_INTEL_R50)\n",
        "  if((\"RTM-INTEL-r500\" in file) and not(\"RTM-INTEL-r500\" in ignoreVer)):\n",
        "    VERSIONS.append(VER_RTM_INTEL_R500)\n",
        "  if((\"STM-TINY\" in file) and not(\"STM-TINY\" in ignoreVer)):\n",
        "    VERSIONS.append(VER_STM_TINY)\n",
        "  if((\"STM-SWISS\" in file) and not(\"STM-SWISS\" in ignoreVer)):\n",
        "    VERSIONS.append(VER_STM_SWISS)\n",
        "  if((\"SEQ\" in file) and not(\"SEQ\" in ignoreVer)):\n",
        "    VERSIONS.append(VER_SEQ)\n",
        "\n",
        "  #for clss in fullClssList:\n",
        "  #  if((clss in file) and not(clss in ignoreClss)):\n",
        "  #    CLASSES.append(clss)\n",
        "  for clss in fullClssList:\n",
        "    if((clss in file) and not(clss in ignoreClss)):\n",
        "      CLASSES.append(clss)\n",
        "\n",
        "  for Bnch in fullBnchList:\n",
        "    if((Bnch in file) and not(Bnch in ignoreBnch)):\n",
        "      BENCHS.append(Bnch)\n",
        "\n",
        "dic_dados = {}\n",
        "dic_dados_bench = {}\n",
        "g_bench = \"\""
      ],
      "execution_count": 3,
      "outputs": []
    },
    {
      "cell_type": "markdown",
      "metadata": {
        "id": "YGUJYxe57J7F"
      },
      "source": [
        "### Statistical methods"
      ]
    },
    {
      "cell_type": "code",
      "metadata": {
        "id": "yOU74mIqXuls"
      },
      "source": [
        "# CSV\n",
        "def le_csv_desempenho(arquivos, prefixo, array_dados):\n",
        "\tif len(arquivos) < 1:\n",
        "\t\treturn\n",
        "\tfor a in arquivos:\n",
        "\t\twith open(a) as f:\n",
        "\t\t\treader = csv.reader(f, delimiter=';', quoting=csv.QUOTE_NONE)\n",
        "\t\t\tfiltro = list(filter(lambda x: len(x) > 0 and x[0] == prefixo, reader))\n",
        "\t\t\t\n",
        "\t\t\tfor linha in filtro:\n",
        "\t\t\t\tarray_dados.append(linha[1:])\n",
        "#END\n",
        "\n",
        "def split(dado):\n",
        "\taux = dado.split(\"=\")\n",
        "\tif len(aux) == 2:\n",
        "\t\treturn aux[1]\n",
        "\treturn dado\n",
        "#END\n",
        "\n",
        "# DICTIONARY\n",
        "def name_versao(versao):\n",
        "\tif \"RTM\" in versao:\n",
        "\t\tif \"INTEL\" in versao:\n",
        "\t\t\tif \"r500\" in versao:\n",
        "\t\t\t\treturn \"RTM-500\"\n",
        "\t\t\tif \"r50\" in versao:\n",
        "\t\t\t\treturn \"RTM-50\"\n",
        "\t\t\tif \"r1\" in versao:\n",
        "\t\t\t\treturn \"RTM-1\"\n",
        "\t\telif \"IBM\" in versao:\n",
        "\t\t\treturn \"IBM\"\n",
        "\telif \"STM\" in versao:\n",
        "\t\tif \"TINY\" in versao:\n",
        "\t\t\treturn \"TinySTM\"\n",
        "\t\telif \"SWISS\" in versao:\n",
        "\t\t\treturn \"SwissTM\"\n",
        "\telif \"SEQ\" in versao:\n",
        "\t\treturn \"Sequential\"\n",
        "\t\t\n",
        "\t#if \"PYTHON\" in versao:\n",
        "\t#\tif \"SERIAL\" in versao:\n",
        "\t#\t\treturn \"Python\"\n",
        "\t#\telif \"CUDA\" in versao:\n",
        "\t#\t\treturn \"Numba\"\n",
        "\t#elif \"OPENACC\" in versao:\n",
        "\t#\treturn \"OpenACC\"\n",
        "\t#elif \"CPP\" in versao:\n",
        "\t#\tif \"SERIAL\" in versao:\n",
        "\t#\t\treturn \"C++\"\n",
        "\t#\telif \"CUDA\" in versao:\n",
        "\t#\t\treturn \"Cuda\"\n",
        "\t\n",
        "\treturn \"\"\n",
        " #END  \n",
        "\n",
        "def idx_dicionario(versao, classe):\n",
        "\treturn versao + \"_$$_\" + classe\n",
        "\n",
        "##Classe, size e gpus acho que não é necessário\n",
        "def add_dicionario(dic, idx, desc, classe, size, iteraction, cpus, gpus, times):\n",
        "\tdic[idx] = {}\n",
        "\tdic[idx][\"desc\"] = desc\n",
        "\tdic[idx][\"class\"] = classe\n",
        "\tdic[idx][\"size\"] = size\n",
        "\tdic[idx][\"iteraction\"] = iteraction\n",
        "\tdic[idx][\"cpus\"] = cpus\n",
        "\tdic[idx][\"gpus\"] = gpus\n",
        "\tdic[idx][\"times\"] = times\n",
        "#END\n",
        "\n",
        "#Statiscs\n",
        "def calc_stats(amostra):\n",
        "\t# confidence interval of 95%\n",
        "\ttdist = t.ppf(0.95, len(amostra)-1)\n",
        "\tmean = np.mean(amostra)\n",
        "\tstd = np.std(amostra)\n",
        "\terror = tdist*(std/math.sqrt(len(amostra)))\n",
        "\treturn mean, std, error\n",
        "\n",
        "def report_df(data):\n",
        "\tmean, std, error = calc_stats(data)\n",
        "\tdata_sort = sorted(data)\n",
        "\tsz = len(data)\n",
        "\t\n",
        "\tks_stat, ks_p, ks_p_ok = ks_gaussian_test(data)\n",
        "\tsw_stat, sw_p, sw_p_ok = shapiro_wilk_gaussian_test(data)\n",
        "\t\n",
        "\tprint(\"%12s %15.8f\" %(\"count\", sz))\n",
        "\tprint(\"%12s %15.8f\" %(\"mean\", mean))\n",
        "\tprint(\"%12s %15.8f\" %(\"std\", std))\n",
        "\tprint(\"%12s %15.8f\" %(\"error (95%)\", error))\n",
        "\tprint(\"%12s %15.8f\" %(\"min\", min(data)))\n",
        "\tprint(\"%12s %15.8f\" %(\"25%\", max(data_sort[: (int(sz*0.25) if int(sz*0.25) > 1 else 1)]) ) )\n",
        "\tprint(\"%12s %15.8f\" %(\"50%\", max(data_sort[:int(sz*0.50)]) ) )\n",
        "\tprint(\"%12s %15.8f\" %(\"75%\", max(data_sort[:int(sz*0.75)]) ) )\n",
        "\tprint(\"%12s %15.8f\" %(\"max\", max(data)))\n",
        "\tprint(\"%12s %15.8f\" %(\"KS stat\", ks_stat))\n",
        "\tprint(\"%12s %15.8f\" %(\"KS p\", ks_p))\n",
        "\tprint(\"%12s %15s\" %( (\"KS p>0.05\", \"Sample OK\" if ks_p_ok else \"Sample Bad\") ))\n",
        "\tprint(\"%12s %15.8f\" %(\"SW stat\", sw_stat))\n",
        "\tprint(\"%12s %15.8f\" %(\"SW p\", sw_p))\n",
        "\tprint(\"%12s %15s\" %( (\"SW p>0.05\", \"Sample OK\" if sw_p_ok else \"Sample Bad\") ))\n",
        "#END\n",
        "\n",
        "def report_df_all(dic):\n",
        "\tcolumn_0 = [\"count\", \"mean\", \"std\", \"error (95%)\", \"min\", \"25%\", \"50%\", \"75%\", \"max\", \n",
        "\t\t\t\t\"KS stat\", \"KS p\", \"KS p>0.05\", \"SW stat\", \"SW p\", \"SW p>0.05\"]\n",
        "\t\n",
        "\trows = []\n",
        "\trows.append([])\n",
        "\ti = 0\n",
        "\tfor c in column_0:\n",
        "\t\trows[i].append(\"%12s\" % (c))\n",
        "\t\trows.append([])\n",
        "\t\ti += 1\n",
        "\t\n",
        "\theader = []\n",
        "\theader.append(\"%12s\" % (\"\"))\n",
        "\tfor idx, dados in dic.items():\n",
        "\t\theader.append(\"%15s\" % (dados[\"desc\"] + \" - \" + dados[\"class\"]))\n",
        "\t\t\n",
        "\t\tdata = dados[\"times\"]\n",
        "\t\tmean, std, error = calc_stats(data)\n",
        "\t\tdata_sort = sorted(data)\n",
        "\t\tsz = len(data)\n",
        "\t\t\n",
        "\t\tks_stat, ks_p, ks_p_ok = ks_gaussian_test(data)\n",
        "\t\tsw_stat, sw_p, sw_p_ok = shapiro_wilk_gaussian_test(data)\n",
        "\t\t\n",
        "\t\trows[0].append(\"%15.8f\" %(sz))\n",
        "\t\trows[1].append(\"%15.8f\" %(mean))\n",
        "\t\trows[2].append(\"%15.8f\" %(std))\n",
        "\t\trows[3].append(\"%15.8f\" %(error))\n",
        "\t\trows[4].append(\"%15.8f\" %(min(data)))\n",
        "\t\trows[5].append(\"%15.8f\" %(max(data_sort[: (int(sz*0.25) if int(sz*0.25) > 1 else 1)])))\n",
        "\t\trows[6].append(\"%15.8f\" %(max(data_sort[:int(sz*0.50)])))\n",
        "\t\trows[7].append(\"%15.8f\" %(max(data_sort[:int(sz*0.75)])))\n",
        "\t\trows[8].append(\"%15.8f\" %(max(data)))\n",
        "\t\trows[9].append(\"%15.8f\" %(ks_stat))\n",
        "\t\trows[10].append(\"%15.8f\" %(ks_p))\n",
        "\t\trows[11].append(\"%15s\" %( (\"Sample OK\" if ks_p_ok else \"Sample Bad\") ))\n",
        "\t\trows[12].append(\"%15.8f\" %(sw_stat))\n",
        "\t\trows[13].append(\"%15.8f\" %(sw_p))\n",
        "\t\trows[14].append(\"%15s\" %( (\"Sample OK\" if sw_p_ok else \"Sample Bad\") ))\n",
        "\t\n",
        "\tfor i in range(len(column_0)):\n",
        "\t\tif i == 0:\n",
        "\t\t\tprint(header[0], end=\"\")\n",
        "\t\t\tj = 1\n",
        "\t\t\tfor idx in dic.items():\n",
        "\t\t\t\tprint(header[j], end=\"\")\n",
        "\t\t\t\tj += 1\n",
        "\t\t\tprint()\n",
        "\t\t\n",
        "\t\tj = 0\n",
        "\t\tfor idx, dados in dic.items():\n",
        "\t\t\tif j == 0:\n",
        "\t\t\t\tprint(rows[i][j], end=\"\")\n",
        "\t\t\t\tj += 1\n",
        "\t\t\t\n",
        "\t\t\tprint(rows[i][j], end=\"\")\n",
        "\t\t\tj += 1\n",
        "\t\tprint()\n",
        "#END\n",
        "\n",
        "\n",
        "def ks_gaussian_test(data):\n",
        "\tloc, scale = stats.norm.fit(data)\n",
        "\tn = stats.norm(loc=loc, scale=scale)\n",
        "\n",
        "\tstat, p = stats.kstest(data, n.cdf)\n",
        "\n",
        "\talpha = 0.05\n",
        "\treturn stat, p, (p > alpha)\n",
        "#END\n",
        "\n",
        "def ks_gaussian_teste_chart(data):\n",
        "\tloc, scale = stats.norm.fit(data)\n",
        "\tn = stats.norm(loc=loc, scale=scale)\n",
        "\n",
        "\tplt.hist(data, rwidth=0.5)\n",
        "\t#x = numpy.arange(min(data), max(data) + 0.2, 0.02)\n",
        "\t#plt.plot(x, data.mean()*n.pdf(x))\n",
        "\tplt.title('Comparação Entre Histograma e Projeção da Distribuição Normal')\n",
        "\tplt.title('Histograma da Distribuição')\n",
        "\tplt.xlabel('Tempo de Execução')  \n",
        "\tplt.ylabel('Número de Ocorrências')\n",
        "\n",
        "\tplt.show()\n",
        "\n",
        "\tstat, p = stats.kstest(data, n.cdf)\n",
        "\tprint('Statistics=%.5f, p=%.5f' % (stat, p))\n",
        "\n",
        "\talpha = 0.05\n",
        "\tif p > alpha:\n",
        "\t\tprint('Sample looks Gaussian (fail to reject H0)')\n",
        "\telse:\n",
        "\t\tprint('Sample does not look Gaussian (reject H0)')\n",
        "#END\n",
        "\n",
        "def shapiro_wilk_gaussian_test(data):\n",
        "\tstat, p = stats.shapiro(data)\n",
        "\t\n",
        "\talpha = 0.05\n",
        "\treturn stat, p, (p > alpha)\n",
        "#END\n",
        "\n",
        "# generate boxplot containing all columns from two dataframes (side by side comparison)\n",
        "def boxplot_chart(data, version):\n",
        "\tdata_set = [data]\n",
        "\tfig, ax = plt.subplots()\n",
        "\t\n",
        "\t#Plot boxplot\n",
        "\tbp = ax.boxplot(data_set, widths=0.25, patch_artist = True)\n",
        "\n",
        "\t# changing color and linewidth of whiskers\n",
        "\tfor whisker in bp['whiskers']:\n",
        "\t\twhisker.set(color ='#8B008B', linewidth = 1.5, linestyle =\":\")\n",
        " \n",
        "\t# changing color and linewidth of caps\n",
        "\tfor cap in bp['caps']:\n",
        "\t\tcap.set(color ='#8B008B', linewidth = 2)\n",
        " \n",
        "\t# changing color and linewidth of medians\n",
        "\tfor median in bp['medians']:\n",
        "\t\tmedian.set(color ='red', linewidth = 3)\n",
        " \n",
        "\t# changing style of fliers\n",
        "\tfor flier in bp['fliers']:\n",
        "\t\tflier.set(marker ='D', color ='#e7298a', alpha = 0.5)\n",
        "\t\n",
        "\t# changing color\n",
        "\tcolors = ['#0000FF', '#00FF00', '#FFFF00', '#FF00FF'] #Support for 4 series\n",
        "\tfor patch, color in zip(bp['boxes'], colors):\n",
        "\t\tpatch.set_facecolor(color)\n",
        "\t\t\n",
        "\tplt.xticks([1], [version])\n",
        "\tplt.ylabel('Execution time (s)')\n",
        "\n",
        "\tfig.tight_layout()\n",
        "\tplt.show()\n",
        "#END\n",
        "\n",
        "\n",
        "# apply student t test comparing two statistics\n",
        "# Null Hypothesis (H0): µa = µb (the means of both populations are equal)\n",
        "# Alternate Hypothesis (Ha): µa ≠ µb (the means of both populations are not equal)\n",
        "def student_t_test(pop_a, pop_b):\n",
        "\tt_stat, p_value = stats.ttest_ind(pop_a, pop_b, equal_var=False)\n",
        "\treturn t_stat, p_value, (p_value <= 0.05)\n",
        "#END\n",
        "\n",
        "def student_t_test_report(pop_a, pop_b):\n",
        "\tt_stat, p_value, p_value_ok = student_t_test(pop_a, pop_b)\n",
        "\t\n",
        "\tprint(\"P-Value={0} T-Statistic={1}\".format(p_value, t_stat))\n",
        "\n",
        "\t#if p_value <= 0.05:\n",
        "\tif p_value_ok:\n",
        "\t\tprint('The mean of the samples is different (reject H0)')\n",
        "\telse:\n",
        "\t\tprint('The mean of the samples is equal (fail to reject H0)')\n",
        "#END\n",
        "\n",
        "def mann_whitney_u_test(pop_a, pop_b):\n",
        "\tt_stat, p_value = stats.mannwhitneyu(pop_a, pop_b, use_continuity=False, alternative='two-sided')\n",
        "\treturn t_stat, p_value, (p_value <= 0.05)\n",
        "#END\n",
        "\n",
        "def mann_whitney_u_test_report(pop_a, pop_b):\n",
        "\tt_stat, p_value, p_value_ok = mann_whitney_u_test(pop_a, pop_b)\n",
        "\n",
        "\tprint(\"P-Value={0} T-Statistic={1}\".format(p_value,t_stat))\n",
        "\n",
        "\t#if p_value <= 0.05:\n",
        "\tif p_value_ok:\n",
        "\t\tprint('The mean of the samples is different (reject H0)')\n",
        "\telse:\n",
        "\t\tprint('The mean of the samples is equal (fail to reject H0)')\n",
        "#END\n",
        "\n",
        "def t_u_tests_report_all(dic, versions): #Versions is a matrix [[v1, v2], [v2, v3]...]\n",
        "\tcolumn_0 = [\"KS OK?\", \"T-Test p\", \"T-Test stat\", \"T-Test p<=0.05\",\n",
        "\t\t\t\t\t\t\"U-Test p\", \"U-Test stat\", \"U-Test p<=0.05\"]\n",
        "\t\n",
        "\trows = []\n",
        "\trows.append([])\n",
        "\ti = 0\n",
        "\tfor c in column_0:\n",
        "\t\trows[i].append(\"%15s\" % (c))\n",
        "\t\trows.append([])\n",
        "\t\ti += 1\n",
        "\t\n",
        "\theader = []\n",
        "\theader.append(\"%15s\" % (\"\"))\n",
        "\tfor v in versions:\n",
        "\t\tdic_a = dic[v[0]]\n",
        "\t\tpop_a = dic_a[\"times\"]\n",
        "\t\t\n",
        "\t\tdic_b = dic[v[1]]\n",
        "\t\tpop_b = dic_b[\"times\"]\n",
        "\t\t\n",
        "\t\thead = \"(\" + dic_a[\"desc\"] + \"[\" + dic_a[\"class\"] + \"]) x (\" + dic_b[\"desc\"] + \"[\" + dic_b[\"class\"] + \"])\"\n",
        "\t\theader.append(\"%27s\" % (head))\n",
        "\t\t\n",
        "\t\t\n",
        "\t\ta_ks_stat, a_ks_p, a_ks_p_ok = ks_gaussian_test(pop_a)\n",
        "\t\tb_ks_stat, b_ks_p, b_ks_p_ok = ks_gaussian_test(pop_b)\n",
        "\t\tks_ok = (a_ks_p_ok and b_ks_p_ok)\n",
        "\t\t\n",
        "\t\tt_stat, t_p_value, t_p_value_ok = student_t_test(pop_a, pop_b)\n",
        "\t\t\n",
        "\t\tu_stat, u_p_value, u_p_value_ok = mann_whitney_u_test(pop_a, pop_b)\n",
        "\t\t\n",
        "\t\trows[0].append(\"%27s\" % ( (\"Yes\" if ks_ok else \"No\") ))\n",
        "\t\trows[1].append(\"%27.12e\" % (t_p_value))\n",
        "\t\trows[2].append(\"%27.8f\" % (t_stat))\n",
        "\t\tt_test_app = (\"T-Test OK\" if t_p_value_ok else \"T-Test Failed\") if ks_ok else \"Not normally distrib.\"\n",
        "\t\trows[3].append(\"%27s\" % ( t_test_app ))\n",
        "\t\trows[4].append(\"%27.12e\" % (u_p_value))\n",
        "\t\trows[5].append(\"%27.8f\" % (u_stat))\n",
        "\t\trows[6].append(\"%27s\" % ( (\"U-Test OK\" if u_p_value_ok else \"U-Test Failed\") ))\n",
        "\t\t\n",
        "\tfor i in range(len(column_0)):\n",
        "\t\tif i == 0:\n",
        "\t\t\tprint(header[0], end=\"\")\n",
        "\t\t\tfor j in range(1, len(versions)+1):\n",
        "\t\t\t\tprint(header[j], end=\"\")\n",
        "\t\t\tprint()\n",
        "\t\t\n",
        "\t\tfor j in range(0, len(versions)+1):\n",
        "\t\t\tprint(rows[i][j], end=\"\")\n",
        "\n",
        "\t\tprint()\n",
        "#END"
      ],
      "execution_count": 4,
      "outputs": []
    },
    {
      "cell_type": "markdown",
      "metadata": {
        "id": "UIZaVHOkAWAh"
      },
      "source": [
        "### Load dictionary"
      ]
    },
    {
      "cell_type": "code",
      "metadata": {
        "id": "-wzD8CND8odw"
      },
      "source": [
        "def load_data_dictionary(bench):\n",
        "    global g_bench\n",
        "    g_bench = bench\n",
        "\n",
        "    # Load dictionary\n",
        "    dados = [] # array das linhas\n",
        "\n",
        "    #le_csv_desempenho([\"sample_data/exec_20220224_BT.txt\", \"sample_data/exec_20210924_EP.txt\", \n",
        "    #                   \"sample_data/exec_20210929_CG.txt\", \"sample_data/exec_20210930_FT.txt\", \n",
        "    #                   \"sample_data/exec_20211001_MG.txt\", \"sample_data/exec_20220227_LU.txt\", \n",
        "    #                   \"sample_data/exec_20211001_IS.txt\", \"sample_data/exec_20220226_SP.txt\"], \"BENCH=\" + bench, dados)\n",
        "    #le_csv_desempenho([\"/content/sample_data/exec_20210924_EP.txt\"], \"BENCH=\" + bench, dados)\n",
        "    #le_csv_desempenho([\"/content/sample_data/tratado\"], \"BENCH=\" + bench, dados)\n",
        "\n",
        "    le_csv_desempenho([\"/content/drive/MyDrive/Colab Notebooks/Arquivos/tratado\"], \"BENCH=\" + bench, dados)\n",
        "\n",
        "    bench_process_data(dados, bench)"
      ],
      "execution_count": 5,
      "outputs": []
    },
    {
      "cell_type": "markdown",
      "metadata": {
        "id": "8pgpADiO8W4T"
      },
      "source": [
        "### Benchmark Methods"
      ]
    },
    {
      "cell_type": "code",
      "metadata": {
        "id": "3pamn9xpYRqX"
      },
      "source": [
        "def bench_time_chart():\n",
        "\ttimes = []\n",
        "\tclass_ids = range(1, len(CLASSES)+2, 2)\n",
        "\t\n",
        "\tmax_time = 0\n",
        "\t#for v in VERSIONS_GPU:\n",
        "\tfor v in VERSIONS:\n",
        "\t\t#if g_bench == \"IS\" and \"OPENACC\" in v:\n",
        "\t\t#\tcontinue\n",
        "\t\t\n",
        "\t\tv_time = []\n",
        "\t\t\n",
        "\t\t#time, a, b = calc_stats(dic_dados[idx_dicionario(v, \"LoContention\")][\"times\"])\n",
        "\t\ttime, a, b = calc_stats(dic_dados[idx_dicionario(v, \"Low\")][\"times\"])\n",
        "\t\tv_time.append(time)\n",
        "\t\tmax_time = max(time, max_time)\n",
        "\t\t\n",
        "\t\t#if \"HiContention\" in CLASSES:\n",
        "\t\tif \"High\" in CLASSES:\n",
        "\t\t\t#time, a, b = calc_stats(dic_dados[idx_dicionario(v, \"HiContention\")][\"times\"])\n",
        "\t\t\ttime, a, b = calc_stats(dic_dados[idx_dicionario(v, \"High\")][\"times\"])\n",
        "\t\t\tv_time.append(time)\n",
        "\t\t\tmax_time = max(time, max_time)\n",
        "\t\t\n",
        "\t\ttimes.append(v_time)\n",
        "\t\t\n",
        "\t#Chart\n",
        "\t#desenha as barras no gráfico\n",
        "\tfig, ax = plt.subplots()\n",
        "\t\n",
        "\tbars = []\n",
        "\t#idx = -0.3\n",
        "\tidx = (1.5/len(times)) \n",
        "\tvalue = idx * -(math.floor(len(times)/2))\n",
        "\tfor t in times:\n",
        "\t\tbar = ax.bar(np.array(class_ids)+value, np.array(t), width=0.25)\n",
        "\t\tbars.append(bar)\n",
        "\t\tvalue += idx\n",
        "\n",
        "\tax.set_xlabel('Classes')\n",
        "\tax.set_ylabel('Execution time (s)')\n",
        "\tax.set_xlim(0, 4)\n",
        "\tax.set_ylim(0, math.ceil(max_time))\n",
        "\t\n",
        "\t#ax.title('Execution time') \n",
        "\tax.legend(tuple(map(name_versao, VERSIONS)))\n",
        "\t\n",
        "\tax.set_xticks(class_ids)\n",
        "\tax.set_xticklabels(CLASSES)\n",
        "\t\n",
        "\t#for b in bars:\n",
        "\t#\tax.bar_label(b, padding=3, fmt='%5.3f')\n",
        "\n",
        "\tfig.tight_layout()\n",
        "\n",
        "\tplt.show() #mostra o gráfico\n",
        "#END\n",
        "\n",
        "def bench_speedup_chart(version_serial, versions_gpu):\n",
        "\tspeedups = []\n",
        "\tclass_ids = range(1, len(CLASSES)+2, 2)\n",
        "\t#class_ids = range((4/len(CLASSES)),(4/len(CLASSES))*2)\n",
        "\t\n",
        "\t#time_serial_B, a, b = calc_stats(dic_dados[idx_dicionario(version_serial, \"B\")][\"times\"])\n",
        "\t#time_serial_C, a, b = calc_stats(dic_dados[idx_dicionario(version_serial, \"C\")][\"times\"])\n",
        "\t#if \"LoContention\" in CLASSES:\n",
        "\t#\ttime_serial_Lo, a, b = calc_stats(dic_dados[idx_dicionario(version_serial, \"LoContention\")][\"times\"])\n",
        "\t#if \"HiContention\" in CLASSES:\n",
        "\t#\ttime_serial_Hi, a, b = calc_stats(dic_dados[idx_dicionario(version_serial, \"HiContention\")][\"times\"])\n",
        "\tif \"Low\" in CLASSES:\n",
        "\t\ttime_serial_Lo, a, b = calc_stats(dic_dados[idx_dicionario(version_serial, \"Low\")][\"times\"])\n",
        "\tif \"High\" in CLASSES:\n",
        "\t\ttime_serial_Hi, a, b = calc_stats(dic_dados[idx_dicionario(version_serial, \"High\")][\"times\"])\n",
        "\t\n",
        "\tmax_speedup = 0\n",
        "\tfor v in versions_gpu:\n",
        "\t\tv_speedup = []\n",
        "\t\t\n",
        "\t\t#if \"LoContention\" in CLASSES:\t\n",
        "\t\t#\ttime, a, b = calc_stats(dic_dados[idx_dicionario(v, \"LoContention\")][\"times\"])\n",
        "\t\tif \"Low\" in CLASSES:\t\n",
        "\t\t\ttime, a, b = calc_stats(dic_dados[idx_dicionario(v, \"Low\")][\"times\"])\n",
        "\t\t\tspeedup = time_serial_Lo/time\n",
        "\t\t\tv_speedup.append(speedup)\n",
        "\t\t\tmax_speedup = max(speedup, max_speedup)\n",
        "\t\t\n",
        "\t\t#if \"HiContention\" in CLASSES:\t\n",
        "\t\t#\ttime, a, b = calc_stats(dic_dados[idx_dicionario(v, \"HiContention\")][\"times\"])\n",
        "\t\tif \"High\" in CLASSES:\t\n",
        "\t\t\ttime, a, b = calc_stats(dic_dados[idx_dicionario(v, \"High\")][\"times\"])\n",
        "\t\t\tspeedup = time_serial_Hi/time\n",
        "\t\t\tv_speedup.append(speedup)\n",
        "\t\t\tmax_speedup = max(speedup, max_speedup)\n",
        "\t\t\n",
        "\t\tspeedups.append(v_speedup)\n",
        "\t\t\n",
        "\t#Chart\n",
        "\t#desenha as barras no gráfico\n",
        "\tfig, ax = plt.subplots()\n",
        "\t\n",
        "\tbars = []\n",
        "\t#idx = 0.30 if len(speedups) > 1 else 0.0\n",
        "\tidx = 1.5/len(speedups) if len(speedups) > 1 else 0.0\n",
        "\tvalue = idx * -(math.floor(len(speedups)/2))\n",
        "\tfor s in speedups:\n",
        "\t\tbar = ax.bar(np.array(class_ids)+value, np.array(s), width=0.25)\n",
        "\t\tbars.append(bar)\n",
        "\t\tvalue += idx\n",
        "\n",
        "\tax.set_xlabel('Classes')\n",
        "\tax.set_ylabel('Speedup')\n",
        "\tax.set_xlim(0, 4)\n",
        "\tax.set_ylim(0, math.ceil(max_speedup*1.1))\n",
        "\t\n",
        "\t#ax.title('Speedup') \n",
        "\tax.legend(tuple(map(name_versao, versions_gpu)))\n",
        "\t\n",
        "\tax.set_xticks(class_ids)\n",
        "\tax.set_xticklabels(CLASSES)\n",
        "\t\n",
        "\t#for b in bars:\n",
        "\t#\tax.bar_label(b, padding=3)\n",
        "\n",
        "\tfig.tight_layout()\n",
        "\n",
        "\tplt.show() #mostra o gráfico\n",
        "#END\n",
        "\n",
        "def bench_report_t_u_tests(classe):\n",
        "\tversoes_comp = []\n",
        "\n",
        "\t#versoes_comp.append([idx_dicionario(VER_PYTHON_SERIAL, classe), idx_dicionario(VER_PYTHON_CUDA, classe)])\n",
        "\t#versoes_comp.append([idx_dicionario(VER_RTM_INTEL, classe), idx_dicionario(VER_SEQ, classe)])\n",
        "\t\n",
        "\t#versoes_comp.append([idx_dicionario(VER_RTM_INTEL, classe), idx_dicionario(VER_STM_TINY, classe)])\n",
        "\tversoes_comp.append([idx_dicionario(VERSIONS[0], classe), idx_dicionario(VERSIONS[1], classe)])\n",
        "\t#for v in VERSIONS:\n",
        "\t#\tversoes_comp.append(idx_dicionario(v, classe))\n",
        "\n",
        "\t#versoes_comp.append([idx_dicionario(VER_CPP_SERIAL, classe), idx_dicionario(VER_CUDA, classe)])\n",
        "\t#if g_bench != \"IS\":\n",
        "\t#\tversoes_comp.append([idx_dicionario(VER_CPP_SERIAL, classe), idx_dicionario(VER_OPENACC, classe)])\n",
        "\t#\tversoes_comp.append([idx_dicionario(VER_CUDA, classe), idx_dicionario(VER_OPENACC, classe)])\n",
        "\t#versoes_comp.append([idx_dicionario(VER_PYTHON_CUDA, classe), idx_dicionario(VER_CUDA, classe)])\n",
        "\t#if g_bench != \"IS\":\n",
        "\t#\tversoes_comp.append([idx_dicionario(VER_PYTHON_CUDA, classe), idx_dicionario(VER_OPENACC, classe)])\n",
        "\n",
        "\t#print(versoes_comp)\n",
        "\t#print(dic_dados)\n",
        "\tt_u_tests_report_all(dic_dados, versoes_comp)\n",
        "#END\n",
        "\n",
        "def bench_calc_stats(dados, versao, classe, threads=0, gpus=0):\n",
        "\tglobal dic_dados\n",
        "\t\n",
        "\tidx_versao = 0\n",
        "\tidx_classe = 1\n",
        "\tidx_size = 2\n",
        "\tidx_iter = 3\n",
        "\tidx_threads = 4\n",
        "\tidx_gpus = 5\n",
        "\tidx_time = 6\n",
        "\tlinhas = list(filter(lambda x: versao in split(x[idx_versao]) and classe in split(x[idx_classe]), dados))\n",
        "\t\n",
        "\tif len(linhas) > 0:\n",
        "\t\ttimes = [float(split(l[idx_time])) for l in linhas]\n",
        "\t\tadd_dicionario(dic_dados, idx_dicionario(versao, classe), name_versao(versao), classe, \n",
        "#\t\t               split(linhas[0][idx_size]), split(linhas[0][idx_iter]), threads, gpus, times) \n",
        "\t\t               split(linhas[0][idx_size]), split(linhas[0][idx_iter]), split(linhas[0][idx_threads]), gpus, times)\n",
        "#END\n",
        "\n",
        "def bench_process_data(dados, bench):\n",
        "\tprint(\"Gerando\", bench, \"...\")\n",
        "\t\n",
        "\tfor c in CLASSES:\n",
        "\t\tfor v in VERSIONS:\n",
        "\t\t\tbench_calc_stats(dados, v, c, 1, 0)\n",
        "\t\t\t\n",
        "\t\t#for v in VERSIONS_GPU:\n",
        "\t\t#\tif bench == \"IS\" and \"OPENACC\" in v:\n",
        "\t\t#\t\tcontinue\n",
        "\t\t#\tbench_calc_stats(dados, v, c, 0, 1)\n",
        "\t\n",
        "\tprint(bench, \"OK\")\n",
        "#END\n",
        "\n",
        "def bench_apply_ks_tests(classe):\n",
        "\tfor idx, value in dic_dados.items():\n",
        "\t\tif value[\"class\"] == classe:\n",
        "\t\t\tprint('----------', value[\"desc\"], \"-\", value[\"class\"], '----------')\n",
        "\t\t\tks_gaussian_teste_chart(value[\"times\"])\n",
        "\t\t\tprint()\t\n",
        "#END\n",
        "\n",
        "def bench_apply_boxplots(classe):\n",
        "\tfor idx, value in dic_dados.items():\n",
        "\t\tif value[\"class\"] == classe:\n",
        "\t\t\tprint('----------', value[\"desc\"], \"-\", value[\"class\"], '----------')\n",
        "\t\t\tboxplot_chart(value[\"times\"], value[\"desc\"] + \" - \" + value[\"class\"])\n",
        "\t\t\tprint()\t\n",
        "#END\n",
        "\n"
      ],
      "execution_count": 6,
      "outputs": []
    },
    {
      "cell_type": "markdown",
      "metadata": {
        "id": "krLw4KtX8hTV"
      },
      "source": [
        "## Main Benchmark"
      ]
    },
    {
      "cell_type": "code",
      "metadata": {
        "colab": {
          "base_uri": "https://localhost:8080/"
        },
        "id": "5BjBX2QrFi0y",
        "outputId": "a42bf03f-cbb2-41d9-d8ee-67719ef70fa9"
      },
      "source": [
        "##Parameter: BT | CG | EP | FT | IS | LU | MG | SP\n",
        "##load_data_dictionary(\"EP\")\n",
        "\n",
        "for b in BENCHS:\n",
        "  load_data_dictionary(b)"
      ],
      "execution_count": 7,
      "outputs": [
        {
          "output_type": "stream",
          "name": "stdout",
          "text": [
            "Gerando bayes ...\n",
            "bayes OK\n",
            "Gerando genome ...\n",
            "genome OK\n",
            "Gerando intruder ...\n",
            "intruder OK\n",
            "Gerando kmeans ...\n",
            "kmeans OK\n",
            "Gerando labyrinth ...\n",
            "labyrinth OK\n",
            "Gerando ssca2 ...\n",
            "ssca2 OK\n",
            "Gerando vacation ...\n",
            "vacation OK\n",
            "Gerando yada ...\n",
            "yada OK\n"
          ]
        }
      ]
    },
    {
      "cell_type": "markdown",
      "metadata": {
        "id": "wrx7UauOAZd-"
      },
      "source": [
        "### Report DF"
      ]
    },
    {
      "cell_type": "code",
      "metadata": {
        "id": "rZFEMAWa8wP2",
        "colab": {
          "base_uri": "https://localhost:8080/"
        },
        "outputId": "237f8d08-2d00-4549-dae4-74a692324841"
      },
      "source": [
        "report_df_all(dic_dados)"
      ],
      "execution_count": 8,
      "outputs": [
        {
          "output_type": "stream",
          "name": "stdout",
          "text": [
            "                RTM-1 - Low   RTM-50 - Low  RTM-500 - Low  TinySTM - Low  SwissTM - Low   RTM-1 - High  RTM-50 - High RTM-500 - High TinySTM - High SwissTM - High\n",
            "       count    30.00000000    37.00000000     7.00000000    30.00000000    30.00000000    30.00000000    37.00000000     7.00000000    30.00000000    30.00000000\n",
            "        mean     0.15813333     0.71324324     2.23342857     0.09640000     0.10370000     8.06883460    50.74735327   166.43853400    17.55868447    17.34454050\n",
            "         std     0.00084591     0.73444623     0.00955969     0.00055377     0.00069041     0.07509578    56.02583192     9.10472888     0.12975196     0.15426650\n",
            " error (95%)     0.00026241     0.20384881     0.00702115     0.00017179     0.00021418     0.02329597    15.55021806     6.68699645     0.04025123     0.04785605\n",
            "         min     0.15700000     0.35300000     2.22200000     0.09600000     0.10300000     7.97327700    23.36720200   162.08470700    17.38628100    17.14186900\n",
            "         25%     0.15800000     0.35500000     2.22200000     0.09600000     0.10300000     8.01037900    23.54291700   162.08470700    17.44124400    17.21117700\n",
            "         50%     0.15800000     0.35700000     2.22800000     0.09600000     0.10400000     8.02558100    23.64089700   162.52476300    17.52216600    17.32612800\n",
            "         75%     0.15800000     0.35700000     2.23400000     0.09700000     0.10400000     8.10682000    24.27746600   163.16261100    17.60505800    17.38662600\n",
            "         max     0.16000000     2.25300000     2.25300000     0.09800000     0.10500000     8.21485600   188.70525100   188.70525100    17.82436600    17.81947600\n",
            "     KS stat     0.32928937     0.46948033     0.21149960     0.39828295     0.27801561     0.21768535     0.48627767     0.47456225     0.19473709     0.14981348\n",
            "        KS p     0.00212453     0.00000005     0.85448764     0.00008335     0.01528637     0.09966094     0.00000001     0.05733030     0.17978156     0.46643610\n",
            "   KS p>0.05     Sample Bad     Sample Bad      Sample OK     Sample Bad     Sample Bad      Sample OK     Sample Bad      Sample OK      Sample OK      Sample OK\n",
            "     SW stat     0.81561947     0.48656350     0.90809351     0.66927099     0.78072971     0.85799658     0.49827093     0.50430793     0.89850789     0.91609687\n",
            "        SW p     0.00012799     0.00000000     0.38283044     0.00000057     0.00002978     0.00091592     0.00000000     0.00001871     0.00772318     0.02126906\n",
            "   SW p>0.05     Sample Bad     Sample Bad      Sample OK     Sample Bad     Sample Bad     Sample Bad     Sample Bad     Sample Bad     Sample Bad     Sample Bad\n"
          ]
        }
      ]
    },
    {
      "cell_type": "markdown",
      "metadata": {
        "id": "8oN2TZvXBoa9"
      },
      "source": [
        "### KS Test"
      ]
    },
    {
      "cell_type": "markdown",
      "metadata": {
        "id": "EjpUCSGKDJ8z"
      },
      "source": [
        "#### Low Contention"
      ]
    },
    {
      "cell_type": "code",
      "metadata": {
        "id": "nOC_Ojb_BtB0",
        "colab": {
          "base_uri": "https://localhost:8080/",
          "height": 1000
        },
        "outputId": "6cfc1098-2bdd-4f2f-e6dd-64e0dfd76ca0"
      },
      "source": [
        "#bench_apply_ks_tests(\"B\")\n",
        "#bench_apply_ks_tests(\"LoContention\")\n",
        "bench_apply_ks_tests(\"Low\")"
      ],
      "execution_count": 9,
      "outputs": [
        {
          "output_type": "stream",
          "name": "stdout",
          "text": [
            "---------- RTM-1 - Low ----------\n"
          ]
        },
        {
          "output_type": "display_data",
          "data": {
            "text/plain": [
              "<Figure size 432x288 with 1 Axes>"
            ],
            "image/png": "[encoded data removed]"
          },
          "metadata": {
            "needs_background": "light"
          }
        },
        {
          "output_type": "stream",
          "name": "stdout",
          "text": [
            "Statistics=0.32929, p=0.00212\n",
            "Sample does not look Gaussian (reject H0)\n",
            "\n",
            "---------- RTM-50 - Low ----------\n"
          ]
        },
        {
          "output_type": "display_data",
          "data": {
            "text/plain": [
              "<Figure size 432x288 with 1 Axes>"
            ],
            "image/png": "[encoded data removed]"
          },
          "metadata": {
            "needs_background": "light"
          }
        },
        {
          "output_type": "stream",
          "name": "stdout",
          "text": [
            "Statistics=0.46948, p=0.00000\n",
            "Sample does not look Gaussian (reject H0)\n",
            "\n",
            "---------- RTM-500 - Low ----------\n"
          ]
        },
        {
          "output_type": "display_data",
          "data": {
            "text/plain": [
              "<Figure size 432x288 with 1 Axes>"
            ],
            "image/png": "[encoded data removed]"
          },
          "metadata": {
            "needs_background": "light"
          }
        },
        {
          "output_type": "stream",
          "name": "stdout",
          "text": [
            "Statistics=0.21150, p=0.85449\n",
            "Sample looks Gaussian (fail to reject H0)\n",
            "\n",
            "---------- TinySTM - Low ----------\n"
          ]
        },
        {
          "output_type": "display_data",
          "data": {
            "text/plain": [
              "<Figure size 432x288 with 1 Axes>"
            ],
            "image/png": "[encoded data removed]"
          },
          "metadata": {
            "needs_background": "light"
          }
        },
        {
          "output_type": "stream",
          "name": "stdout",
          "text": [
            "Statistics=0.39828, p=0.00008\n",
            "Sample does not look Gaussian (reject H0)\n",
            "\n",
            "---------- SwissTM - Low ----------\n"
          ]
        },
        {
          "output_type": "display_data",
          "data": {
            "text/plain": [
              "<Figure size 432x288 with 1 Axes>"
            ],
            "image/png": "[encoded data removed]"
          },
          "metadata": {
            "needs_background": "light"
          }
        },
        {
          "output_type": "stream",
          "name": "stdout",
          "text": [
            "Statistics=0.27802, p=0.01529\n",
            "Sample does not look Gaussian (reject H0)\n",
            "\n"
          ]
        }
      ]
    },
    {
      "cell_type": "markdown",
      "metadata": {
        "id": "rbZgoHQ7Dnwb"
      },
      "source": [
        "#### High Contention"
      ]
    },
    {
      "cell_type": "code",
      "metadata": {
        "id": "FvOIzC7IDnwd",
        "colab": {
          "base_uri": "https://localhost:8080/",
          "height": 1000
        },
        "outputId": "3ddbd2f7-769a-4a9e-c9d1-daa8f8eb23c5"
      },
      "source": [
        "##bench_apply_ks_tests(\"C\")\n",
        "#bench_apply_ks_tests(\"HiContention\")\n",
        "bench_apply_ks_tests(\"High\")"
      ],
      "execution_count": 10,
      "outputs": [
        {
          "output_type": "stream",
          "name": "stdout",
          "text": [
            "---------- RTM-1 - High ----------\n"
          ]
        },
        {
          "output_type": "display_data",
          "data": {
            "text/plain": [
              "<Figure size 432x288 with 1 Axes>"
            ],
            "image/png": "[encoded data removed]"
          },
          "metadata": {
            "needs_background": "light"
          }
        },
        {
          "output_type": "stream",
          "name": "stdout",
          "text": [
            "Statistics=0.21769, p=0.09966\n",
            "Sample looks Gaussian (fail to reject H0)\n",
            "\n",
            "---------- RTM-50 - High ----------\n"
          ]
        },
        {
          "output_type": "display_data",
          "data": {
            "text/plain": [
              "<Figure size 432x288 with 1 Axes>"
            ],
            "image/png": "[encoded data removed]"
          },
          "metadata": {
            "needs_background": "light"
          }
        },
        {
          "output_type": "stream",
          "name": "stdout",
          "text": [
            "Statistics=0.48628, p=0.00000\n",
            "Sample does not look Gaussian (reject H0)\n",
            "\n",
            "---------- RTM-500 - High ----------\n"
          ]
        },
        {
          "output_type": "display_data",
          "data": {
            "text/plain": [
              "<Figure size 432x288 with 1 Axes>"
            ],
            "image/png": "[encoded data removed]"
          },
          "metadata": {
            "needs_background": "light"
          }
        },
        {
          "output_type": "stream",
          "name": "stdout",
          "text": [
            "Statistics=0.47456, p=0.05733\n",
            "Sample looks Gaussian (fail to reject H0)\n",
            "\n",
            "---------- TinySTM - High ----------\n"
          ]
        },
        {
          "output_type": "display_data",
          "data": {
            "text/plain": [
              "<Figure size 432x288 with 1 Axes>"
            ],
            "image/png": "[encoded data removed]"
          },
          "metadata": {
            "needs_background": "light"
          }
        },
        {
          "output_type": "stream",
          "name": "stdout",
          "text": [
            "Statistics=0.19474, p=0.17978\n",
            "Sample looks Gaussian (fail to reject H0)\n",
            "\n",
            "---------- SwissTM - High ----------\n"
          ]
        },
        {
          "output_type": "display_data",
          "data": {
            "text/plain": [
              "<Figure size 432x288 with 1 Axes>"
            ],
            "image/png": "[encoded data removed]"
          },
          "metadata": {
            "needs_background": "light"
          }
        },
        {
          "output_type": "stream",
          "name": "stdout",
          "text": [
            "Statistics=0.14981, p=0.46644\n",
            "Sample looks Gaussian (fail to reject H0)\n",
            "\n"
          ]
        }
      ]
    },
    {
      "cell_type": "markdown",
      "metadata": {
        "id": "EomQQaN27gS0"
      },
      "source": [
        "### Boxplots"
      ]
    },
    {
      "cell_type": "markdown",
      "metadata": {
        "id": "01rH6uM38Ov8"
      },
      "source": [
        "#### Low Contention"
      ]
    },
    {
      "cell_type": "code",
      "metadata": {
        "id": "pzkESJbF7oEZ",
        "colab": {
          "base_uri": "https://localhost:8080/",
          "height": 1000
        },
        "outputId": "2fae4082-4afa-44a4-bbc8-dc5331f56398"
      },
      "source": [
        "#bench_apply_boxplots(\"B\")\n",
        "#bench_apply_boxplots(\"LoContention\")\n",
        "bench_apply_boxplots(\"Low\")"
      ],
      "execution_count": 11,
      "outputs": [
        {
          "output_type": "stream",
          "name": "stdout",
          "text": [
            "---------- RTM-1 - Low ----------\n"
          ]
        },
        {
          "output_type": "display_data",
          "data": {
            "text/plain": [
              "<Figure size 432x288 with 1 Axes>"
            ],
            "image/png": "[encoded data removed]"
          },
          "metadata": {
            "needs_background": "light"
          }
        },
        {
          "output_type": "stream",
          "name": "stdout",
          "text": [
            "\n",
            "---------- RTM-50 - Low ----------\n"
          ]
        },
        {
          "output_type": "display_data",
          "data": {
            "text/plain": [
              "<Figure size 432x288 with 1 Axes>"
            ],
            "image/png": "[encoded data removed]"
          },
          "metadata": {
            "needs_background": "light"
          }
        },
        {
          "output_type": "stream",
          "name": "stdout",
          "text": [
            "\n",
            "---------- RTM-500 - Low ----------\n"
          ]
        },
        {
          "output_type": "display_data",
          "data": {
            "text/plain": [
              "<Figure size 432x288 with 1 Axes>"
            ],
            "image/png": "[encoded data removed]"
          },
          "metadata": {
            "needs_background": "light"
          }
        },
        {
          "output_type": "stream",
          "name": "stdout",
          "text": [
            "\n",
            "---------- TinySTM - Low ----------\n"
          ]
        },
        {
          "output_type": "display_data",
          "data": {
            "text/plain": [
              "<Figure size 432x288 with 1 Axes>"
            ],
            "image/png": "[encoded data removed]"
          },
          "metadata": {
            "needs_background": "light"
          }
        },
        {
          "output_type": "stream",
          "name": "stdout",
          "text": [
            "\n",
            "---------- SwissTM - Low ----------\n"
          ]
        },
        {
          "output_type": "display_data",
          "data": {
            "text/plain": [
              "<Figure size 432x288 with 1 Axes>"
            ],
            "image/png": "[encoded data removed]"
          },
          "metadata": {
            "needs_background": "light"
          }
        },
        {
          "output_type": "stream",
          "name": "stdout",
          "text": [
            "\n"
          ]
        }
      ]
    },
    {
      "cell_type": "markdown",
      "metadata": {
        "id": "Vl39IcCd9OPR"
      },
      "source": [
        "#### High Contention"
      ]
    },
    {
      "cell_type": "code",
      "metadata": {
        "id": "esKaPA7z9Ral",
        "colab": {
          "base_uri": "https://localhost:8080/",
          "height": 1000
        },
        "outputId": "b78c4da7-3eea-4136-e987-0afb2ed072a5"
      },
      "source": [
        "##bench_apply_boxplots(\"C\")\n",
        "#bench_apply_boxplots(\"HiContention\")\n",
        "bench_apply_boxplots(\"High\")"
      ],
      "execution_count": 12,
      "outputs": [
        {
          "output_type": "stream",
          "name": "stdout",
          "text": [
            "---------- RTM-1 - High ----------\n"
          ]
        },
        {
          "output_type": "display_data",
          "data": {
            "text/plain": [
              "<Figure size 432x288 with 1 Axes>"
            ],
            "image/png": "[encoded data removed]"
          },
          "metadata": {
            "needs_background": "light"
          }
        },
        {
          "output_type": "stream",
          "name": "stdout",
          "text": [
            "\n",
            "---------- RTM-50 - High ----------\n"
          ]
        },
        {
          "output_type": "display_data",
          "data": {
            "text/plain": [
              "<Figure size 432x288 with 1 Axes>"
            ],
            "image/png": "[encoded data removed]"
          },
          "metadata": {
            "needs_background": "light"
          }
        },
        {
          "output_type": "stream",
          "name": "stdout",
          "text": [
            "\n",
            "---------- RTM-500 - High ----------\n"
          ]
        },
        {
          "output_type": "display_data",
          "data": {
            "text/plain": [
              "<Figure size 432x288 with 1 Axes>"
            ],
            "image/png": "[encoded data removed]"
          },
          "metadata": {
            "needs_background": "light"
          }
        },
        {
          "output_type": "stream",
          "name": "stdout",
          "text": [
            "\n",
            "---------- TinySTM - High ----------\n"
          ]
        },
        {
          "output_type": "display_data",
          "data": {
            "text/plain": [
              "<Figure size 432x288 with 1 Axes>"
            ],
            "image/png": "[encoded data removed]"
          },
          "metadata": {
            "needs_background": "light"
          }
        },
        {
          "output_type": "stream",
          "name": "stdout",
          "text": [
            "\n",
            "---------- SwissTM - High ----------\n"
          ]
        },
        {
          "output_type": "display_data",
          "data": {
            "text/plain": [
              "<Figure size 432x288 with 1 Axes>"
            ],
            "image/png": "[encoded data removed]"
          },
          "metadata": {
            "needs_background": "light"
          }
        },
        {
          "output_type": "stream",
          "name": "stdout",
          "text": [
            "\n"
          ]
        }
      ]
    },
    {
      "cell_type": "markdown",
      "metadata": {
        "id": "CQ3yaHEvRp7Z"
      },
      "source": [
        "### T-Test and U-Test"
      ]
    },
    {
      "cell_type": "markdown",
      "metadata": {
        "id": "WiKswMI8R1XT"
      },
      "source": [
        "#### Low Contention"
      ]
    },
    {
      "cell_type": "code",
      "metadata": {
        "colab": {
          "base_uri": "https://localhost:8080/"
        },
        "id": "EZ-s9Co9Rw6h",
        "outputId": "9ea429f3-c03a-425c-bfb3-9276515488ae"
      },
      "source": [
        "#bench_report_t_u_tests(\"B\")\n",
        "#if(\"LoContention\" in CLASSES):\n",
        "#  bench_report_t_u_tests(\"LoContention\")\n",
        "if(\"Low\" in CLASSES):\n",
        "  bench_report_t_u_tests(\"Low\")"
      ],
      "execution_count": 13,
      "outputs": [
        {
          "output_type": "stream",
          "name": "stdout",
          "text": [
            "               (RTM-1[Low]) x (RTM-50[Low])\n",
            "         KS OK?                         No\n",
            "       T-Test p         6.163134747051e-05\n",
            "    T-Test stat                -4.53492248\n",
            " T-Test p<=0.05      Not normally distrib.\n",
            "       U-Test p         1.479276809093e-12\n",
            "    U-Test stat                 0.00000000\n",
            " U-Test p<=0.05                  U-Test OK\n"
          ]
        }
      ]
    },
    {
      "cell_type": "markdown",
      "metadata": {
        "id": "YUwj3ZOQSvbi"
      },
      "source": [
        "#### High Contention"
      ]
    },
    {
      "cell_type": "code",
      "metadata": {
        "id": "eZQ_EfFnSxaZ",
        "colab": {
          "base_uri": "https://localhost:8080/"
        },
        "outputId": "51f8af10-42cb-48c0-9c23-fe461adc106d"
      },
      "source": [
        "##bench_report_t_u_tests(\"C\")\n",
        "#if \"HiContention\" in CLASSES:\n",
        "#  bench_report_t_u_tests(\"HiContention\")\n",
        "if \"High\" in CLASSES:\n",
        "  bench_report_t_u_tests(\"High\")"
      ],
      "execution_count": 14,
      "outputs": [
        {
          "output_type": "stream",
          "name": "stdout",
          "text": [
            "               (RTM-1[High]) x (RTM-50[High])\n",
            "         KS OK?                         No\n",
            "       T-Test p         5.535443884005e-05\n",
            "    T-Test stat                -4.57058499\n",
            " T-Test p<=0.05      Not normally distrib.\n",
            "       U-Test p         2.598295687016e-12\n",
            "    U-Test stat                 0.00000000\n",
            " U-Test p<=0.05                  U-Test OK\n"
          ]
        }
      ]
    },
    {
      "cell_type": "markdown",
      "metadata": {
        "id": "H6bZkJkQTFax"
      },
      "source": [
        "### Speedup charts"
      ]
    },
    {
      "cell_type": "code",
      "metadata": {
        "id": "ByUq7z3DTLLJ",
        "colab": {
          "base_uri": "https://localhost:8080/",
          "height": 297
        },
        "outputId": "18d16b1b-418b-4d2b-c460-6dd99990ac87"
      },
      "source": [
        "#O speedup to comparando uma execução com ela mesma, isso preciso mudar\n",
        "\n",
        "##Aqui provavelmente tenha que mudar\n",
        "##Aqui usa as questões de versão e classe que não sei se traduzi corretamente pro meu caso\n",
        "#print('----------', \"Python\", '----------')\n",
        "#versions_gpu = [VER_PYTHON_CUDA]\n",
        "#versions = [VER_RTM_INTEL_R1]\n",
        "#versions2 = [\"VER_RTM_INTEL_R1\", \"VER_STM_TINY\", \"VER_STM_SWISS\"]\n",
        "\n",
        "#bench_speedup_chart(VER_PYTHON_SERIAL, versions_gpu)\n",
        "#bench_speedup_chart(VER_RTM_INTEL, versions)\n",
        "#bench_speedup_chart(VER_RTM_INTEL_R1, versions)\n",
        "#for v in VERSIONS:\n",
        "v = VERSIONS[0]\n",
        "bench_speedup_chart(v, VERSIONS)\n",
        "\n",
        "\n",
        "#print(\"\\n\\n\", '----------', \"C++\", '----------')\n",
        "#if g_bench == \"IS\":\n",
        "#    versions_gpu = [VER_CUDA]\n",
        "#else:\n",
        "#    versions_gpu = [VER_CUDA, VER_OPENACC]\n",
        "#versions = [VER_SEQ]\n",
        "#versions = [VER_STM_TINY]\n",
        "\n",
        "#bench_speedup_chart(VER_CPP_SERIAL, versions_gpu)\n",
        "#bench_speedup_chart(VER_SEQ, versions)\n",
        "#bench_speedup_chart(VER_STM_TINY, versions)"
      ],
      "execution_count": 15,
      "outputs": [
        {
          "output_type": "display_data",
          "data": {
            "text/plain": [
              "<Figure size 432x288 with 1 Axes>"
            ],
            "image/png": "[encoded data removed]"
          },
          "metadata": {
            "needs_background": "light"
          }
        }
      ]
    },
    {
      "cell_type": "markdown",
      "metadata": {
        "id": "UrZZPuACYlje"
      },
      "source": [
        "### GPU comparison chart"
      ]
    },
    {
      "cell_type": "code",
      "metadata": {
        "id": "JRmqT9sGYrk-",
        "colab": {
          "base_uri": "https://localhost:8080/",
          "height": 297
        },
        "outputId": "b3f8a985-6d81-463f-88d6-1a96438d8d6a"
      },
      "source": [
        "bench_time_chart()"
      ],
      "execution_count": 16,
      "outputs": [
        {
          "output_type": "display_data",
          "data": {
            "text/plain": [
              "<Figure size 432x288 with 1 Axes>"
            ],
            "image/png": "[encoded data removed]"
          },
          "metadata": {
            "needs_background": "light"
          }
        }
      ]
    },
    {
      "cell_type": "markdown",
      "metadata": {
        "id": "VFNavx2HtW-f"
      },
      "source": [
        "## Main general view"
      ]
    },
    {
      "cell_type": "markdown",
      "metadata": {
        "id": "m9GbEEYTu65s"
      },
      "source": [
        "### Utils"
      ]
    },
    {
      "cell_type": "code",
      "metadata": {
        "id": "sHwBAGtXta0K"
      },
      "source": [
        "def load_npb_data_dictinary():\n",
        "    global dic_dados_bench\n",
        "    global dic_dados\n",
        "    for b in BENCHS:\n",
        "        dic_dados = {}\n",
        "        load_data_dictionary(b)\n",
        "        dic_dados_bench[b] = dict(dic_dados)\n",
        "#END"
      ],
      "execution_count": 17,
      "outputs": []
    },
    {
      "cell_type": "code",
      "metadata": {
        "id": "zNDdl8GBurp4"
      },
      "source": [
        "##Aqui também tive que mudar bastante coisa com classes e versões e não sei se tá correto\n",
        "def npb_time_chart(classe):\n",
        "\ttimes = []\n",
        "\tbench_ids = range(1, len(BENCHS)*2+1, 2)\n",
        "\t\n",
        "\t#for v in VERSIONS_GPU:\n",
        "\tfor v in VERSIONS:\n",
        "\t\tv_time = []\n",
        "\t\t\n",
        "\t\tfor bench in BENCHS:\n",
        "\t\t\tdic_bench = dic_dados_bench[bench]\n",
        "\t\t\tif idx_dicionario(v, classe) in dic_bench.keys():\n",
        "\t\t\t\ttime, a, b = calc_stats(dic_bench[idx_dicionario(v, classe)][\"times\"])\n",
        "\t\t\telse:\n",
        "\t\t\t\ttime = 0.0\n",
        "\t\t\tv_time.append(time)\n",
        "\t\t\t\n",
        "\t\ttimes.append(v_time)\n",
        "\t\n",
        "\t#Chart\n",
        "\t#desenha as barras no gráfico\n",
        "\tfig, ax = plt.subplots()\n",
        "\t\n",
        "\tbars = []\n",
        "\tidx = -0.5\n",
        "\tfor t in times:\n",
        "\t\tbar = ax.bar(np.array(bench_ids)+idx, np.array(t), width=0.45)\n",
        "\t\tbars.append(bar)\n",
        "\t\tidx += 0.5\n",
        "\n",
        "\tax.set_xlabel('Benchmark')\n",
        "\tax.set_ylabel('Execution time (s)')\n",
        "\tax.set_xlim(0, 16)\n",
        "\tax.set_ylim(0.01, 60)\n",
        "\t\n",
        "\tax.set_title('Execution time') \n",
        "\tax.legend(tuple(map(name_versao, VERSIONS)))\n",
        "\t\n",
        "\tax.set_xticks(bench_ids)\n",
        "\tax.set_xticklabels(BENCHS)\n",
        "\t\n",
        "\t#ax.set_yscale('log', base=2)\n",
        "\tax.set_yscale('log') \n",
        "\t\n",
        "\tlocs = [0.05, 0.1, 0.5, 1, 5, 10, 20, 40, 60]\n",
        "\tax.yaxis.set_minor_locator(ticker.FixedLocator(locs))\n",
        "\tax.yaxis.set_major_locator(ticker.NullLocator())\n",
        "\n",
        "\tax.yaxis.set_minor_formatter(ticker.ScalarFormatter())\n",
        "\t\n",
        "\t#for b in bars:\n",
        "\t#\tax.bar_label(b, padding=3, fmt='%4.2f')\n",
        "\n",
        "\tfig.tight_layout()\n",
        "\n",
        "\tplt.show() #mostra o gráfico\n",
        "#END\n",
        "\n",
        "def npb_speedup_chart(classe):\n",
        "\tspeedups = []\n",
        "\tbench_ids = range(1, len(BENCHS)*2+1, 2)\n",
        "\t\n",
        "\t#for v in VERSIONS_GPU:\n",
        "\tfor v in VERSIONS:\n",
        "\t\tv_speedup = []\n",
        "\t\t\n",
        "\t\tfor bench in BENCHS:\n",
        "\t\t\tdic_bench = dic_dados_bench[bench]\n",
        "\t\t\t\n",
        "\t\t\tif idx_dicionario(v, classe) in dic_bench.keys():\n",
        "\t\t\t\ttime_serial = 1.0\n",
        "\t\t\t\t#if \"PYTHON\" in v: \n",
        "\t\t\t\t#\ttime_serial, a, b = calc_stats(dic_bench[idx_dicionario(VER_PYTHON_SERIAL, classe)][\"times\"])\n",
        "\t\t\t\t#time_serial, a, b = calc_stats(dic_bench[idx_dicionario(VER_RTM_INTEL, classe)][\"times\"])\n",
        "\t\t\t\ttime_serial, a, b = calc_stats(dic_bench[idx_dicionario(VER_RTM_INTEL_R1, classe)][\"times\"])\n",
        "\t\t\t\t#else:\n",
        "\t\t\t\t#\ttime_serial, a, b = calc_stats(dic_bench[idx_dicionario(VER_CPP_SERIAL, classe)][\"times\"])\n",
        "\t\t\t\t#\n",
        "\t\t\t\t#if idx_dicionario(v, classe) in dic_bench.keys():\n",
        "\t\t\t\ttime, a, b = calc_stats(dic_bench[idx_dicionario(v, classe)][\"times\"])\n",
        "\t\t\t\tv_speedup.append(time_serial/time)\n",
        "\t\t\telse:\n",
        "\t\t\t\tv_speedup.append(-100.0)\n",
        "\t\t\t\n",
        "\t\tspeedups.append(v_speedup)\n",
        "\t\n",
        "\t#Chart\n",
        "\t#desenha as barras no gráfico\n",
        "\tfig, ax = plt.subplots()\n",
        "\t\n",
        "\tbars = []\n",
        "\tidx = -0.5\n",
        "\tfor s in speedups:\n",
        "\t\tbar = ax.bar(np.array(bench_ids)+idx, np.array(s), width=0.45)\n",
        "\t\tbars.append(bar)\n",
        "\t\tidx += 0.5\n",
        "\n",
        "\tax.set_xlabel('Benchmark')\n",
        "\tax.set_ylabel('Speedup')\n",
        "\tax.set_xlim(0, 16)\n",
        "\tax.set_ylim(1, 2000)\n",
        "\t\n",
        "\tax.set_title('Speedup') \n",
        "\tax.legend(tuple(map(name_versao, VERSIONS)))\n",
        "\t\n",
        "\tax.set_xticks(bench_ids)\n",
        "\tax.set_xticklabels(BENCHS)\n",
        "\t\n",
        "\tax.set_yscale('log') \n",
        "\t\n",
        "\tlocs = [1, 5, 10, 50, 100, 500, 1000, 1500, 2000]\n",
        "\tax.yaxis.set_minor_locator(ticker.FixedLocator(locs))\n",
        "\tax.yaxis.set_major_locator(ticker.NullLocator())\n",
        "\n",
        "\tax.yaxis.set_minor_formatter(ticker.ScalarFormatter())\n",
        "\t\n",
        "\t#for b in bars:\n",
        "\t#\tax.bar_label(b, padding=3, fmt='%4.1f')\n",
        "\n",
        "\tfig.tight_layout()\n",
        "\n",
        "\tplt.show() #mostra o gráfico\n",
        "#END"
      ],
      "execution_count": 18,
      "outputs": []
    },
    {
      "cell_type": "markdown",
      "metadata": {
        "id": "nVbvS8hWvEt6"
      },
      "source": [
        "### Charts"
      ]
    },
    {
      "cell_type": "code",
      "metadata": {
        "id": "Pf2CLr2QvHnC",
        "colab": {
          "base_uri": "https://localhost:8080/",
          "height": 855
        },
        "outputId": "7fc2da13-ca71-48ef-87f0-1af5f7e0cb55"
      },
      "source": [
        "load_npb_data_dictinary()\n",
        "\n",
        "#print('\\n', '----------', \"Class B\", '----------')\n",
        "#npb_speedup_chart(\"B\")\n",
        "#npb_speedup_chart(\"LoContention\")\n",
        "npb_speedup_chart(\"Low\")\n",
        "\n",
        "#npb_time_chart(\"B\")\n",
        "#npb_time_chart(\"LoContention\")\n",
        "npb_time_chart(\"Low\")"
      ],
      "execution_count": 19,
      "outputs": [
        {
          "output_type": "stream",
          "name": "stdout",
          "text": [
            "Gerando bayes ...\n",
            "bayes OK\n",
            "Gerando genome ...\n",
            "genome OK\n",
            "Gerando intruder ...\n",
            "intruder OK\n",
            "Gerando kmeans ...\n",
            "kmeans OK\n",
            "Gerando labyrinth ...\n",
            "labyrinth OK\n",
            "Gerando ssca2 ...\n",
            "ssca2 OK\n",
            "Gerando vacation ...\n",
            "vacation OK\n",
            "Gerando yada ...\n",
            "yada OK\n"
          ]
        },
        {
          "output_type": "display_data",
          "data": {
            "text/plain": [
              "<Figure size 432x288 with 1 Axes>"
            ],
            "image/png": "[encoded data removed]"
          },
          "metadata": {
            "needs_background": "light"
          }
        },
        {
          "output_type": "display_data",
          "data": {
            "text/plain": [
              "<Figure size 432x288 with 1 Axes>"
            ],
            "image/png": "[encoded data removed]"
          },
          "metadata": {
            "needs_background": "light"
          }
        }
      ]
    },
    {
      "cell_type": "code",
      "source": [
        "##print('\\n', '----------', \"Class C\", '----------')\n",
        "##npb_speedup_chart(\"C\")\n",
        "#if \"HiContention\" in CLASSES:\n",
        "#  npb_speedup_chart(\"HiContention\")\n",
        "if \"High\" in CLASSES:\n",
        "  npb_speedup_chart(\"High\")\n",
        "\n",
        "##npb_time_chart(\"C\")\n",
        "#  npb_time_chart(\"HiContention\")\n",
        "  npb_time_chart(\"High\")"
      ],
      "metadata": {
        "colab": {
          "base_uri": "https://localhost:8080/",
          "height": 577
        },
        "id": "Qd68Yv7dZ3_a",
        "outputId": "fd35124c-b1fa-427e-b932-0bee21426084"
      },
      "execution_count": 20,
      "outputs": [
        {
          "output_type": "display_data",
          "data": {
            "text/plain": [
              "<Figure size 432x288 with 1 Axes>"
            ],
            "image/png": "[encoded data removed]"
          },
          "metadata": {
            "needs_background": "light"
          }
        },
        {
          "output_type": "display_data",
          "data": {
            "text/plain": [
              "<Figure size 432x288 with 1 Axes>"
            ],
            "image/png": "[encoded data removed]"
          },
          "metadata": {
            "needs_background": "light"
          }
        }
      ]
    },
    {
      "cell_type": "code",
      "source": [
        "import os\n",
        "get_ipython().system(\n",
        "    \"apt update >> /dev/null && apt install texlive-xetex texlive-fonts-recommended texlive-generic-recommended >> /dev/null\"\n",
        ")\n",
        "\n",
        "notebookpath=\"/content/drive/MyDrive/Colab Notebooks/\"\n",
        "file_name = \"NPB_statistics - Frederico.ipynb\"\n",
        "drive_mount_point = \"/content/drive/\"\n",
        "gdrive_home = os.path.join(drive_mount_point, \"My Drive/Colab Notebooks/Arquivos\")\n",
        "\n",
        "if not os.path.isfile(os.path.join(notebookpath, file_name)):\n",
        "  raise ValueError(f\"file '{file_name}' not found in path '{notebookpath}'.\")\n",
        "\n",
        "pdfNum = 0\n",
        "while os.path.isfile(os.path.join(gdrive_home, file_name.split(\".\")[0] + str(pdfNum) + \".pdf\")):\n",
        "  pdfNum = pdfNum + 1\n",
        "filename = file_name.split(\".\")[0] + str(pdfNum)# + \".pdf\"\n",
        "\n",
        "try:\n",
        "    get_ipython().system(\n",
        "        \"jupyter nbconvert --output-dir=\\\"\"+gdrive_home+\"\\\" \\\"\"+notebookpath+file_name+\"\\\" --to pdf --output=\\\"\"+filename+\"\\\"\"\n",
        "    )\n",
        "except:\n",
        "    print(\"nbconvert error\")\n",
        "\n",
        "try:\n",
        "    from google.colab import files\n",
        "\n",
        "    file_name = file_name.split(\".\")[0] + \".pdf\"\n",
        "    files.download(gdrive_home + file_name)\n",
        "except:\n",
        "    print(\"File Download Unsuccessful. Saved in Google Drive\")\n",
        "\n",
        "print(\"File ready to be Downloaded and Saved to Drive\")"
      ],
      "metadata": {
        "colab": {
          "base_uri": "https://localhost:8080/"
        },
        "id": "6Mp-JAFCACx4",
        "outputId": "c39d1fdb-97bf-4845-a9ba-f8dc69d03b54"
      },
      "execution_count": 21,
      "outputs": [
        {
          "output_type": "stream",
          "name": "stdout",
          "text": [
            "\n",
            "WARNING: apt does not have a stable CLI interface. Use with caution in scripts.\n",
            "\n",
            "\n",
            "WARNING: apt does not have a stable CLI interface. Use with caution in scripts.\n",
            "\n",
            "[NbConvertApp] Converting notebook /content/drive/MyDrive/Colab Notebooks/NPB_statistics - Frederico.ipynb to pdf\n",
            "[NbConvertApp] Support files will be in NPB_statistics - Frederico15_files/\n",
            "[NbConvertApp] Making directory ./NPB_statistics - Frederico15_files\n",
            "[NbConvertApp] Making directory ./NPB_statistics - Frederico15_files\n",
            "[NbConvertApp] Making directory ./NPB_statistics - Frederico15_files\n",
            "[NbConvertApp] Making directory ./NPB_statistics - Frederico15_files\n",
            "[NbConvertApp] Making directory ./NPB_statistics - Frederico15_files\n",
            "[NbConvertApp] Making directory ./NPB_statistics - Frederico15_files\n",
            "[NbConvertApp] Making directory ./NPB_statistics - Frederico15_files\n",
            "[NbConvertApp] Making directory ./NPB_statistics - Frederico15_files\n",
            "[NbConvertApp] Making directory ./NPB_statistics - Frederico15_files\n",
            "[NbConvertApp] Making directory ./NPB_statistics - Frederico15_files\n",
            "[NbConvertApp] Making directory ./NPB_statistics - Frederico15_files\n",
            "[NbConvertApp] Making directory ./NPB_statistics - Frederico15_files\n",
            "[NbConvertApp] Making directory ./NPB_statistics - Frederico15_files\n",
            "[NbConvertApp] Making directory ./NPB_statistics - Frederico15_files\n",
            "[NbConvertApp] Making directory ./NPB_statistics - Frederico15_files\n",
            "[NbConvertApp] Making directory ./NPB_statistics - Frederico15_files\n",
            "[NbConvertApp] Making directory ./NPB_statistics - Frederico15_files\n",
            "[NbConvertApp] Making directory ./NPB_statistics - Frederico15_files\n",
            "[NbConvertApp] Making directory ./NPB_statistics - Frederico15_files\n",
            "[NbConvertApp] Making directory ./NPB_statistics - Frederico15_files\n",
            "[NbConvertApp] Making directory ./NPB_statistics - Frederico15_files\n",
            "[NbConvertApp] Making directory ./NPB_statistics - Frederico15_files\n",
            "[NbConvertApp] Writing 130315 bytes to ./notebook.tex\n",
            "[NbConvertApp] Building PDF\n",
            "[NbConvertApp] Running xelatex 3 times: ['xelatex', './notebook.tex', '-quiet']\n",
            "[NbConvertApp] Running bibtex 1 time: ['bibtex', './notebook']\n",
            "[NbConvertApp] WARNING | bibtex had problems, most likely because there were no citations\n",
            "[NbConvertApp] PDF successfully created\n",
            "[NbConvertApp] Writing 253253 bytes to /content/drive/My Drive/Colab Notebooks/Arquivos/NPB_statistics - Frederico15.pdf\n",
            "File Download Unsuccessful. Saved in Google Drive\n",
            "File ready to be Downloaded and Saved to Drive\n"
          ]
        }
      ]
    }
  ]
}